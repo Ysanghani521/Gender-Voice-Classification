{
 "cells": [
  {
   "cell_type": "markdown",
   "id": "09ef961d",
   "metadata": {},
   "source": [
    "#                                     Minor Project "
   ]
  },
  {
   "cell_type": "markdown",
   "id": "a03b4789",
   "metadata": {},
   "source": [
    "Name: Yash Sanghani<br>\n",
    "E-mail i'd: yashsanghani521@gmail.com<br>\n",
    "Date of assignment: 16/06/2022<br>\n",
    "Date of submission: 22/06/2022<br>"
   ]
  },
  {
   "cell_type": "markdown",
   "id": "0a89bfda",
   "metadata": {},
   "source": [
    "# Problem Statement"
   ]
  },
  {
   "cell_type": "markdown",
   "id": "2187f98d",
   "metadata": {},
   "source": [
    "To create a classification model to predict the gender (male or female) based on different acoustic parameters."
   ]
  },
  {
   "cell_type": "markdown",
   "id": "e55f7e4c",
   "metadata": {},
   "source": [
    "# Solution"
   ]
  },
  {
   "cell_type": "code",
   "execution_count": 86,
   "id": "cab71cb0",
   "metadata": {},
   "outputs": [],
   "source": [
    "# 1) Importing the basic liberaries\n",
    "\n",
    "import numpy as np\n",
    "import pandas as pd\n",
    "import matplotlib.pyplot as plt"
   ]
  },
  {
   "cell_type": "code",
   "execution_count": 87,
   "id": "a1611c57",
   "metadata": {},
   "outputs": [
    {
     "data": {
      "text/html": [
       "<div>\n",
       "<style scoped>\n",
       "    .dataframe tbody tr th:only-of-type {\n",
       "        vertical-align: middle;\n",
       "    }\n",
       "\n",
       "    .dataframe tbody tr th {\n",
       "        vertical-align: top;\n",
       "    }\n",
       "\n",
       "    .dataframe thead th {\n",
       "        text-align: right;\n",
       "    }\n",
       "</style>\n",
       "<table border=\"1\" class=\"dataframe\">\n",
       "  <thead>\n",
       "    <tr style=\"text-align: right;\">\n",
       "      <th></th>\n",
       "      <th>meanfreq</th>\n",
       "      <th>sd</th>\n",
       "      <th>median</th>\n",
       "      <th>Q25</th>\n",
       "      <th>Q75</th>\n",
       "      <th>IQR</th>\n",
       "      <th>skew</th>\n",
       "      <th>kurt</th>\n",
       "      <th>sp.ent</th>\n",
       "      <th>sfm</th>\n",
       "      <th>...</th>\n",
       "      <th>centroid</th>\n",
       "      <th>meanfun</th>\n",
       "      <th>minfun</th>\n",
       "      <th>maxfun</th>\n",
       "      <th>meandom</th>\n",
       "      <th>mindom</th>\n",
       "      <th>maxdom</th>\n",
       "      <th>dfrange</th>\n",
       "      <th>modindx</th>\n",
       "      <th>label</th>\n",
       "    </tr>\n",
       "  </thead>\n",
       "  <tbody>\n",
       "    <tr>\n",
       "      <th>0</th>\n",
       "      <td>0.059781</td>\n",
       "      <td>0.064241</td>\n",
       "      <td>0.032027</td>\n",
       "      <td>0.015071</td>\n",
       "      <td>0.090193</td>\n",
       "      <td>0.075122</td>\n",
       "      <td>12.863462</td>\n",
       "      <td>274.402905</td>\n",
       "      <td>0.893369</td>\n",
       "      <td>0.491918</td>\n",
       "      <td>...</td>\n",
       "      <td>0.059781</td>\n",
       "      <td>0.084279</td>\n",
       "      <td>0.015702</td>\n",
       "      <td>0.275862</td>\n",
       "      <td>0.007812</td>\n",
       "      <td>0.007812</td>\n",
       "      <td>0.007812</td>\n",
       "      <td>0.000000</td>\n",
       "      <td>0.000000</td>\n",
       "      <td>male</td>\n",
       "    </tr>\n",
       "    <tr>\n",
       "      <th>1</th>\n",
       "      <td>0.066009</td>\n",
       "      <td>0.067310</td>\n",
       "      <td>0.040229</td>\n",
       "      <td>0.019414</td>\n",
       "      <td>0.092666</td>\n",
       "      <td>0.073252</td>\n",
       "      <td>22.423285</td>\n",
       "      <td>634.613855</td>\n",
       "      <td>0.892193</td>\n",
       "      <td>0.513724</td>\n",
       "      <td>...</td>\n",
       "      <td>0.066009</td>\n",
       "      <td>0.107937</td>\n",
       "      <td>0.015826</td>\n",
       "      <td>0.250000</td>\n",
       "      <td>0.009014</td>\n",
       "      <td>0.007812</td>\n",
       "      <td>0.054688</td>\n",
       "      <td>0.046875</td>\n",
       "      <td>0.052632</td>\n",
       "      <td>male</td>\n",
       "    </tr>\n",
       "    <tr>\n",
       "      <th>2</th>\n",
       "      <td>0.077316</td>\n",
       "      <td>0.083829</td>\n",
       "      <td>0.036718</td>\n",
       "      <td>0.008701</td>\n",
       "      <td>0.131908</td>\n",
       "      <td>0.123207</td>\n",
       "      <td>30.757155</td>\n",
       "      <td>1024.927705</td>\n",
       "      <td>0.846389</td>\n",
       "      <td>0.478905</td>\n",
       "      <td>...</td>\n",
       "      <td>0.077316</td>\n",
       "      <td>0.098706</td>\n",
       "      <td>0.015656</td>\n",
       "      <td>0.271186</td>\n",
       "      <td>0.007990</td>\n",
       "      <td>0.007812</td>\n",
       "      <td>0.015625</td>\n",
       "      <td>0.007812</td>\n",
       "      <td>0.046512</td>\n",
       "      <td>male</td>\n",
       "    </tr>\n",
       "    <tr>\n",
       "      <th>3</th>\n",
       "      <td>0.151228</td>\n",
       "      <td>0.072111</td>\n",
       "      <td>0.158011</td>\n",
       "      <td>0.096582</td>\n",
       "      <td>0.207955</td>\n",
       "      <td>0.111374</td>\n",
       "      <td>1.232831</td>\n",
       "      <td>4.177296</td>\n",
       "      <td>0.963322</td>\n",
       "      <td>0.727232</td>\n",
       "      <td>...</td>\n",
       "      <td>0.151228</td>\n",
       "      <td>0.088965</td>\n",
       "      <td>0.017798</td>\n",
       "      <td>0.250000</td>\n",
       "      <td>0.201497</td>\n",
       "      <td>0.007812</td>\n",
       "      <td>0.562500</td>\n",
       "      <td>0.554688</td>\n",
       "      <td>0.247119</td>\n",
       "      <td>male</td>\n",
       "    </tr>\n",
       "    <tr>\n",
       "      <th>4</th>\n",
       "      <td>0.135120</td>\n",
       "      <td>0.079146</td>\n",
       "      <td>0.124656</td>\n",
       "      <td>0.078720</td>\n",
       "      <td>0.206045</td>\n",
       "      <td>0.127325</td>\n",
       "      <td>1.101174</td>\n",
       "      <td>4.333713</td>\n",
       "      <td>0.971955</td>\n",
       "      <td>0.783568</td>\n",
       "      <td>...</td>\n",
       "      <td>0.135120</td>\n",
       "      <td>0.106398</td>\n",
       "      <td>0.016931</td>\n",
       "      <td>0.266667</td>\n",
       "      <td>0.712812</td>\n",
       "      <td>0.007812</td>\n",
       "      <td>5.484375</td>\n",
       "      <td>5.476562</td>\n",
       "      <td>0.208274</td>\n",
       "      <td>male</td>\n",
       "    </tr>\n",
       "  </tbody>\n",
       "</table>\n",
       "<p>5 rows × 21 columns</p>\n",
       "</div>"
      ],
      "text/plain": [
       "   meanfreq        sd    median       Q25       Q75       IQR       skew  \\\n",
       "0  0.059781  0.064241  0.032027  0.015071  0.090193  0.075122  12.863462   \n",
       "1  0.066009  0.067310  0.040229  0.019414  0.092666  0.073252  22.423285   \n",
       "2  0.077316  0.083829  0.036718  0.008701  0.131908  0.123207  30.757155   \n",
       "3  0.151228  0.072111  0.158011  0.096582  0.207955  0.111374   1.232831   \n",
       "4  0.135120  0.079146  0.124656  0.078720  0.206045  0.127325   1.101174   \n",
       "\n",
       "          kurt    sp.ent       sfm  ...  centroid   meanfun    minfun  \\\n",
       "0   274.402905  0.893369  0.491918  ...  0.059781  0.084279  0.015702   \n",
       "1   634.613855  0.892193  0.513724  ...  0.066009  0.107937  0.015826   \n",
       "2  1024.927705  0.846389  0.478905  ...  0.077316  0.098706  0.015656   \n",
       "3     4.177296  0.963322  0.727232  ...  0.151228  0.088965  0.017798   \n",
       "4     4.333713  0.971955  0.783568  ...  0.135120  0.106398  0.016931   \n",
       "\n",
       "     maxfun   meandom    mindom    maxdom   dfrange   modindx  label  \n",
       "0  0.275862  0.007812  0.007812  0.007812  0.000000  0.000000   male  \n",
       "1  0.250000  0.009014  0.007812  0.054688  0.046875  0.052632   male  \n",
       "2  0.271186  0.007990  0.007812  0.015625  0.007812  0.046512   male  \n",
       "3  0.250000  0.201497  0.007812  0.562500  0.554688  0.247119   male  \n",
       "4  0.266667  0.712812  0.007812  5.484375  5.476562  0.208274   male  \n",
       "\n",
       "[5 rows x 21 columns]"
      ]
     },
     "execution_count": 87,
     "metadata": {},
     "output_type": "execute_result"
    }
   ],
   "source": [
    "df=pd.read_csv('voice.excel.csv') #file reading\n",
    "df.head()"
   ]
  },
  {
   "cell_type": "code",
   "execution_count": 88,
   "id": "950108f7",
   "metadata": {},
   "outputs": [
    {
     "data": {
      "text/plain": [
       "(3168, 21)"
      ]
     },
     "execution_count": 88,
     "metadata": {},
     "output_type": "execute_result"
    }
   ],
   "source": [
    "df.shape"
   ]
  },
  {
   "cell_type": "code",
   "execution_count": 89,
   "id": "990d80fa",
   "metadata": {},
   "outputs": [
    {
     "data": {
      "text/plain": [
       "meanfreq    0\n",
       "sd          0\n",
       "median      0\n",
       "Q25         0\n",
       "Q75         0\n",
       "IQR         0\n",
       "skew        0\n",
       "kurt        0\n",
       "sp.ent      0\n",
       "sfm         0\n",
       "mode        0\n",
       "centroid    0\n",
       "meanfun     0\n",
       "minfun      0\n",
       "maxfun      0\n",
       "meandom     0\n",
       "mindom      0\n",
       "maxdom      0\n",
       "dfrange     0\n",
       "modindx     0\n",
       "label       0\n",
       "dtype: int64"
      ]
     },
     "execution_count": 89,
     "metadata": {},
     "output_type": "execute_result"
    }
   ],
   "source": [
    "df.isnull().sum() #checking the null values, and no null values found."
   ]
  },
  {
   "cell_type": "code",
   "execution_count": 134,
   "id": "299d2db1",
   "metadata": {},
   "outputs": [
    {
     "data": {
      "text/html": [
       "<div>\n",
       "<style scoped>\n",
       "    .dataframe tbody tr th:only-of-type {\n",
       "        vertical-align: middle;\n",
       "    }\n",
       "\n",
       "    .dataframe tbody tr th {\n",
       "        vertical-align: top;\n",
       "    }\n",
       "\n",
       "    .dataframe thead th {\n",
       "        text-align: right;\n",
       "    }\n",
       "</style>\n",
       "<table border=\"1\" class=\"dataframe\">\n",
       "  <thead>\n",
       "    <tr style=\"text-align: right;\">\n",
       "      <th></th>\n",
       "      <th>meanfreq</th>\n",
       "      <th>sd</th>\n",
       "      <th>median</th>\n",
       "      <th>Q25</th>\n",
       "      <th>Q75</th>\n",
       "      <th>IQR</th>\n",
       "      <th>skew</th>\n",
       "      <th>kurt</th>\n",
       "      <th>sp.ent</th>\n",
       "      <th>sfm</th>\n",
       "      <th>...</th>\n",
       "      <th>centroid</th>\n",
       "      <th>meanfun</th>\n",
       "      <th>minfun</th>\n",
       "      <th>maxfun</th>\n",
       "      <th>meandom</th>\n",
       "      <th>mindom</th>\n",
       "      <th>maxdom</th>\n",
       "      <th>dfrange</th>\n",
       "      <th>modindx</th>\n",
       "      <th>label</th>\n",
       "    </tr>\n",
       "  </thead>\n",
       "  <tbody>\n",
       "    <tr>\n",
       "      <th>0</th>\n",
       "      <td>0.059781</td>\n",
       "      <td>0.064241</td>\n",
       "      <td>0.032027</td>\n",
       "      <td>0.015071</td>\n",
       "      <td>0.090193</td>\n",
       "      <td>0.075122</td>\n",
       "      <td>12.863462</td>\n",
       "      <td>274.402905</td>\n",
       "      <td>0.893369</td>\n",
       "      <td>0.491918</td>\n",
       "      <td>...</td>\n",
       "      <td>0.059781</td>\n",
       "      <td>0.084279</td>\n",
       "      <td>0.015702</td>\n",
       "      <td>0.275862</td>\n",
       "      <td>0.007812</td>\n",
       "      <td>0.007812</td>\n",
       "      <td>0.007812</td>\n",
       "      <td>0.000000</td>\n",
       "      <td>0.000000</td>\n",
       "      <td>1</td>\n",
       "    </tr>\n",
       "    <tr>\n",
       "      <th>1</th>\n",
       "      <td>0.066009</td>\n",
       "      <td>0.067310</td>\n",
       "      <td>0.040229</td>\n",
       "      <td>0.019414</td>\n",
       "      <td>0.092666</td>\n",
       "      <td>0.073252</td>\n",
       "      <td>22.423285</td>\n",
       "      <td>634.613855</td>\n",
       "      <td>0.892193</td>\n",
       "      <td>0.513724</td>\n",
       "      <td>...</td>\n",
       "      <td>0.066009</td>\n",
       "      <td>0.107937</td>\n",
       "      <td>0.015826</td>\n",
       "      <td>0.250000</td>\n",
       "      <td>0.009014</td>\n",
       "      <td>0.007812</td>\n",
       "      <td>0.054688</td>\n",
       "      <td>0.046875</td>\n",
       "      <td>0.052632</td>\n",
       "      <td>1</td>\n",
       "    </tr>\n",
       "    <tr>\n",
       "      <th>2</th>\n",
       "      <td>0.077316</td>\n",
       "      <td>0.083829</td>\n",
       "      <td>0.036718</td>\n",
       "      <td>0.008701</td>\n",
       "      <td>0.131908</td>\n",
       "      <td>0.123207</td>\n",
       "      <td>30.757155</td>\n",
       "      <td>1024.927705</td>\n",
       "      <td>0.846389</td>\n",
       "      <td>0.478905</td>\n",
       "      <td>...</td>\n",
       "      <td>0.077316</td>\n",
       "      <td>0.098706</td>\n",
       "      <td>0.015656</td>\n",
       "      <td>0.271186</td>\n",
       "      <td>0.007990</td>\n",
       "      <td>0.007812</td>\n",
       "      <td>0.015625</td>\n",
       "      <td>0.007812</td>\n",
       "      <td>0.046512</td>\n",
       "      <td>1</td>\n",
       "    </tr>\n",
       "    <tr>\n",
       "      <th>3</th>\n",
       "      <td>0.151228</td>\n",
       "      <td>0.072111</td>\n",
       "      <td>0.158011</td>\n",
       "      <td>0.096582</td>\n",
       "      <td>0.207955</td>\n",
       "      <td>0.111374</td>\n",
       "      <td>1.232831</td>\n",
       "      <td>4.177296</td>\n",
       "      <td>0.963322</td>\n",
       "      <td>0.727232</td>\n",
       "      <td>...</td>\n",
       "      <td>0.151228</td>\n",
       "      <td>0.088965</td>\n",
       "      <td>0.017798</td>\n",
       "      <td>0.250000</td>\n",
       "      <td>0.201497</td>\n",
       "      <td>0.007812</td>\n",
       "      <td>0.562500</td>\n",
       "      <td>0.554688</td>\n",
       "      <td>0.247119</td>\n",
       "      <td>1</td>\n",
       "    </tr>\n",
       "    <tr>\n",
       "      <th>4</th>\n",
       "      <td>0.135120</td>\n",
       "      <td>0.079146</td>\n",
       "      <td>0.124656</td>\n",
       "      <td>0.078720</td>\n",
       "      <td>0.206045</td>\n",
       "      <td>0.127325</td>\n",
       "      <td>1.101174</td>\n",
       "      <td>4.333713</td>\n",
       "      <td>0.971955</td>\n",
       "      <td>0.783568</td>\n",
       "      <td>...</td>\n",
       "      <td>0.135120</td>\n",
       "      <td>0.106398</td>\n",
       "      <td>0.016931</td>\n",
       "      <td>0.266667</td>\n",
       "      <td>0.712812</td>\n",
       "      <td>0.007812</td>\n",
       "      <td>5.484375</td>\n",
       "      <td>5.476562</td>\n",
       "      <td>0.208274</td>\n",
       "      <td>1</td>\n",
       "    </tr>\n",
       "    <tr>\n",
       "      <th>...</th>\n",
       "      <td>...</td>\n",
       "      <td>...</td>\n",
       "      <td>...</td>\n",
       "      <td>...</td>\n",
       "      <td>...</td>\n",
       "      <td>...</td>\n",
       "      <td>...</td>\n",
       "      <td>...</td>\n",
       "      <td>...</td>\n",
       "      <td>...</td>\n",
       "      <td>...</td>\n",
       "      <td>...</td>\n",
       "      <td>...</td>\n",
       "      <td>...</td>\n",
       "      <td>...</td>\n",
       "      <td>...</td>\n",
       "      <td>...</td>\n",
       "      <td>...</td>\n",
       "      <td>...</td>\n",
       "      <td>...</td>\n",
       "      <td>...</td>\n",
       "    </tr>\n",
       "    <tr>\n",
       "      <th>1996</th>\n",
       "      <td>0.193123</td>\n",
       "      <td>0.076673</td>\n",
       "      <td>0.219079</td>\n",
       "      <td>0.179206</td>\n",
       "      <td>0.240127</td>\n",
       "      <td>0.060921</td>\n",
       "      <td>3.114001</td>\n",
       "      <td>21.220924</td>\n",
       "      <td>0.921173</td>\n",
       "      <td>0.498639</td>\n",
       "      <td>...</td>\n",
       "      <td>0.193123</td>\n",
       "      <td>0.198040</td>\n",
       "      <td>0.096970</td>\n",
       "      <td>0.271186</td>\n",
       "      <td>0.635882</td>\n",
       "      <td>0.007812</td>\n",
       "      <td>3.906250</td>\n",
       "      <td>3.898438</td>\n",
       "      <td>0.153307</td>\n",
       "      <td>0</td>\n",
       "    </tr>\n",
       "    <tr>\n",
       "      <th>1997</th>\n",
       "      <td>0.176375</td>\n",
       "      <td>0.089545</td>\n",
       "      <td>0.205757</td>\n",
       "      <td>0.111365</td>\n",
       "      <td>0.249916</td>\n",
       "      <td>0.138551</td>\n",
       "      <td>2.588148</td>\n",
       "      <td>21.795893</td>\n",
       "      <td>0.938456</td>\n",
       "      <td>0.557869</td>\n",
       "      <td>...</td>\n",
       "      <td>0.176375</td>\n",
       "      <td>0.196777</td>\n",
       "      <td>0.043716</td>\n",
       "      <td>0.275862</td>\n",
       "      <td>0.322443</td>\n",
       "      <td>0.007812</td>\n",
       "      <td>0.906250</td>\n",
       "      <td>0.898438</td>\n",
       "      <td>0.288079</td>\n",
       "      <td>0</td>\n",
       "    </tr>\n",
       "    <tr>\n",
       "      <th>1998</th>\n",
       "      <td>0.182662</td>\n",
       "      <td>0.074427</td>\n",
       "      <td>0.205498</td>\n",
       "      <td>0.168708</td>\n",
       "      <td>0.231974</td>\n",
       "      <td>0.063266</td>\n",
       "      <td>2.819528</td>\n",
       "      <td>18.138512</td>\n",
       "      <td>0.936013</td>\n",
       "      <td>0.605141</td>\n",
       "      <td>...</td>\n",
       "      <td>0.182662</td>\n",
       "      <td>0.186323</td>\n",
       "      <td>0.027073</td>\n",
       "      <td>0.262295</td>\n",
       "      <td>0.365423</td>\n",
       "      <td>0.007812</td>\n",
       "      <td>1.335938</td>\n",
       "      <td>1.328125</td>\n",
       "      <td>0.196078</td>\n",
       "      <td>0</td>\n",
       "    </tr>\n",
       "    <tr>\n",
       "      <th>1999</th>\n",
       "      <td>0.175856</td>\n",
       "      <td>0.083800</td>\n",
       "      <td>0.198388</td>\n",
       "      <td>0.138163</td>\n",
       "      <td>0.237488</td>\n",
       "      <td>0.099325</td>\n",
       "      <td>4.330892</td>\n",
       "      <td>52.728075</td>\n",
       "      <td>0.941454</td>\n",
       "      <td>0.603737</td>\n",
       "      <td>...</td>\n",
       "      <td>0.175856</td>\n",
       "      <td>0.186003</td>\n",
       "      <td>0.015936</td>\n",
       "      <td>0.271186</td>\n",
       "      <td>0.301563</td>\n",
       "      <td>0.007812</td>\n",
       "      <td>0.835938</td>\n",
       "      <td>0.828125</td>\n",
       "      <td>0.331490</td>\n",
       "      <td>0</td>\n",
       "    </tr>\n",
       "    <tr>\n",
       "      <th>2000</th>\n",
       "      <td>0.188126</td>\n",
       "      <td>0.082495</td>\n",
       "      <td>0.218128</td>\n",
       "      <td>0.165719</td>\n",
       "      <td>0.247730</td>\n",
       "      <td>0.082010</td>\n",
       "      <td>2.384851</td>\n",
       "      <td>11.942546</td>\n",
       "      <td>0.933937</td>\n",
       "      <td>0.592861</td>\n",
       "      <td>...</td>\n",
       "      <td>0.188126</td>\n",
       "      <td>0.181134</td>\n",
       "      <td>0.016649</td>\n",
       "      <td>0.266667</td>\n",
       "      <td>0.297917</td>\n",
       "      <td>0.007812</td>\n",
       "      <td>0.687500</td>\n",
       "      <td>0.679688</td>\n",
       "      <td>0.287356</td>\n",
       "      <td>0</td>\n",
       "    </tr>\n",
       "  </tbody>\n",
       "</table>\n",
       "<p>2000 rows × 21 columns</p>\n",
       "</div>"
      ],
      "text/plain": [
       "      meanfreq        sd    median       Q25       Q75       IQR       skew  \\\n",
       "0     0.059781  0.064241  0.032027  0.015071  0.090193  0.075122  12.863462   \n",
       "1     0.066009  0.067310  0.040229  0.019414  0.092666  0.073252  22.423285   \n",
       "2     0.077316  0.083829  0.036718  0.008701  0.131908  0.123207  30.757155   \n",
       "3     0.151228  0.072111  0.158011  0.096582  0.207955  0.111374   1.232831   \n",
       "4     0.135120  0.079146  0.124656  0.078720  0.206045  0.127325   1.101174   \n",
       "...        ...       ...       ...       ...       ...       ...        ...   \n",
       "1996  0.193123  0.076673  0.219079  0.179206  0.240127  0.060921   3.114001   \n",
       "1997  0.176375  0.089545  0.205757  0.111365  0.249916  0.138551   2.588148   \n",
       "1998  0.182662  0.074427  0.205498  0.168708  0.231974  0.063266   2.819528   \n",
       "1999  0.175856  0.083800  0.198388  0.138163  0.237488  0.099325   4.330892   \n",
       "2000  0.188126  0.082495  0.218128  0.165719  0.247730  0.082010   2.384851   \n",
       "\n",
       "             kurt    sp.ent       sfm  ...  centroid   meanfun    minfun  \\\n",
       "0      274.402905  0.893369  0.491918  ...  0.059781  0.084279  0.015702   \n",
       "1      634.613855  0.892193  0.513724  ...  0.066009  0.107937  0.015826   \n",
       "2     1024.927705  0.846389  0.478905  ...  0.077316  0.098706  0.015656   \n",
       "3        4.177296  0.963322  0.727232  ...  0.151228  0.088965  0.017798   \n",
       "4        4.333713  0.971955  0.783568  ...  0.135120  0.106398  0.016931   \n",
       "...           ...       ...       ...  ...       ...       ...       ...   \n",
       "1996    21.220924  0.921173  0.498639  ...  0.193123  0.198040  0.096970   \n",
       "1997    21.795893  0.938456  0.557869  ...  0.176375  0.196777  0.043716   \n",
       "1998    18.138512  0.936013  0.605141  ...  0.182662  0.186323  0.027073   \n",
       "1999    52.728075  0.941454  0.603737  ...  0.175856  0.186003  0.015936   \n",
       "2000    11.942546  0.933937  0.592861  ...  0.188126  0.181134  0.016649   \n",
       "\n",
       "        maxfun   meandom    mindom    maxdom   dfrange   modindx  label  \n",
       "0     0.275862  0.007812  0.007812  0.007812  0.000000  0.000000      1  \n",
       "1     0.250000  0.009014  0.007812  0.054688  0.046875  0.052632      1  \n",
       "2     0.271186  0.007990  0.007812  0.015625  0.007812  0.046512      1  \n",
       "3     0.250000  0.201497  0.007812  0.562500  0.554688  0.247119      1  \n",
       "4     0.266667  0.712812  0.007812  5.484375  5.476562  0.208274      1  \n",
       "...        ...       ...       ...       ...       ...       ...    ...  \n",
       "1996  0.271186  0.635882  0.007812  3.906250  3.898438  0.153307      0  \n",
       "1997  0.275862  0.322443  0.007812  0.906250  0.898438  0.288079      0  \n",
       "1998  0.262295  0.365423  0.007812  1.335938  1.328125  0.196078      0  \n",
       "1999  0.271186  0.301563  0.007812  0.835938  0.828125  0.331490      0  \n",
       "2000  0.266667  0.297917  0.007812  0.687500  0.679688  0.287356      0  \n",
       "\n",
       "[2000 rows x 21 columns]"
      ]
     },
     "execution_count": 134,
     "metadata": {},
     "output_type": "execute_result"
    }
   ],
   "source": [
    "from sklearn.preprocessing import LabelEncoder\n",
    "\n",
    "lb=LabelEncoder()\n",
    "df['label']=lb.fit_transform(df['label'])\n",
    "df.head(2000)\n",
    "# Changing the object type of the dependent variable('lable column') from string to integer: 1 is for male and 0 is for female"
   ]
  },
  {
   "cell_type": "code",
   "execution_count": 91,
   "id": "ad7486cc",
   "metadata": {},
   "outputs": [],
   "source": [
    "df.duplicated().sum()\n",
    "df.drop_duplicates(inplace=True)   #removing duplicate records"
   ]
  },
  {
   "cell_type": "code",
   "execution_count": 92,
   "id": "5002b5a9",
   "metadata": {},
   "outputs": [
    {
     "data": {
      "text/plain": [
       "0    1583\n",
       "1    1583\n",
       "Name: label, dtype: int64"
      ]
     },
     "execution_count": 92,
     "metadata": {},
     "output_type": "execute_result"
    }
   ],
   "source": [
    "df['label'].value_counts()"
   ]
  },
  {
   "cell_type": "markdown",
   "id": "35b2cec0",
   "metadata": {},
   "source": [
    "# plotting the pie chart for the label column\n",
    "\n",
    "\n"
   ]
  },
  {
   "cell_type": "code",
   "execution_count": 141,
   "id": "4d670035",
   "metadata": {},
   "outputs": [
    {
     "data": {
      "image/png": "[encoded data removed]",
      "text/plain": [
       "<Figure size 432x288 with 1 Axes>"
      ]
     },
     "metadata": {},
     "output_type": "display_data"
    }
   ],
   "source": [
    "plt.pie(x=df['label'].value_counts(),labels=['Male_voice','Female_voice'],autopct='%0.2f%%')\n",
    "plt.show()"
   ]
  },
  {
   "cell_type": "code",
   "execution_count": 93,
   "id": "29b64bd2",
   "metadata": {},
   "outputs": [],
   "source": [
    "#importing the liberaries for different ML models, splitting data into train and test and for required metrices\n",
    "\n",
    "from sklearn.model_selection import train_test_split\n",
    "from sklearn.metrics import confusion_matrix,classification_report,accuracy_score\n",
    "from sklearn.linear_model import LogisticRegression\n",
    "from sklearn.tree import DecisionTreeClassifier\n",
    "from sklearn.ensemble import RandomForestClassifier\n",
    "from sklearn.svm import SVC\n",
    "from sklearn.neighbors import KNeighborsClassifier\n",
    "\n"
   ]
  },
  {
   "cell_type": "code",
   "execution_count": 94,
   "id": "ec20afb1",
   "metadata": {},
   "outputs": [],
   "source": [
    "x_train,x_test,y_train,y_test=train_test_split(df.iloc[:,:-1],df.iloc[:,-1],test_size=0.2)"
   ]
  },
  {
   "cell_type": "code",
   "execution_count": 95,
   "id": "0626bb67",
   "metadata": {},
   "outputs": [
    {
     "name": "stdout",
     "output_type": "stream",
     "text": [
      "(2532, 20)\n",
      "(2532,)\n",
      "(634, 20)\n",
      "(634,)\n"
     ]
    }
   ],
   "source": [
    "print(x_train.shape)\n",
    "print(y_train.shape)\n",
    "print(x_test.shape)\n",
    "print(y_test.shape)"
   ]
  },
  {
   "cell_type": "code",
   "execution_count": 96,
   "id": "a5607630",
   "metadata": {},
   "outputs": [],
   "source": [
    "def gen_metrics(ytest,ypred,model):\n",
    "    print('confusion matrics of',model,'is',confusion_matrix(ytest,ypred))\n",
    "    print(classification_report(ytest,ypred))\n",
    "    print('accuracy score of given model is:',accuracy_score(ytest,ypred))\n",
    "\n",
    "#function for generation of confusion matrix, classification report, accuracy_score"
   ]
  },
  {
   "cell_type": "code",
   "execution_count": 97,
   "id": "d459683c",
   "metadata": {},
   "outputs": [],
   "source": [
    "def train_test_score(model):\n",
    "    print('training score',model.score(x_train,y_train))\n",
    "    print('testing score',model.score(x_test,y_test))\n",
    "\n",
    "#function for generation of training and testing score"
   ]
  },
  {
   "cell_type": "markdown",
   "id": "b95c85a1",
   "metadata": {},
   "source": [
    "# logistic Regression model(m1)"
   ]
  },
  {
   "cell_type": "code",
   "execution_count": 124,
   "id": "f737304d",
   "metadata": {},
   "outputs": [
    {
     "name": "stdout",
     "output_type": "stream",
     "text": [
      "training score 0.9075829383886256\n",
      "testing score 0.8974763406940063\n"
     ]
    }
   ],
   "source": [
    "m1=LogisticRegression(max_iter=3000)\n",
    "m1.fit(x_train,y_train)\n",
    "train_test_score(m1)"
   ]
  },
  {
   "cell_type": "code",
   "execution_count": 125,
   "id": "fb4bc056",
   "metadata": {},
   "outputs": [],
   "source": [
    "ypred_m1=m1.predict(x_test)"
   ]
  },
  {
   "cell_type": "code",
   "execution_count": 126,
   "id": "9ca5ecd6",
   "metadata": {},
   "outputs": [
    {
     "name": "stdout",
     "output_type": "stream",
     "text": [
      "[1 0 1 0 1 0 1 1 1 1 1 0 1 1 1 0 1 0 1 1 0 0 1 1 1 0 0 0 1 0 1 1 1 0 1 1 1\n",
      " 1 0 1 0 1 1 0 1 0 0 0 1 1 1 1 0 1 1 1 1 0 1 1 0 1 1 0 1 1 1 1 0 0 0 1 0 1\n",
      " 1 1 1 1 1 1 1 1 0 1 1 1 0 1 0 1 0 1 1 0 0 1 1 0 1 1 1 1 1 1 1 0 1 1 0 0 1\n",
      " 0 0 1 0 1 1 0 1 1 0 1 1 1 0 0 0 0 1 1 1 0 0 0 1 1 1 1 0 1 1 0 0 0 1 0 1 0\n",
      " 0 1 1 1 1 0 0 0 0 0 1 0 0 0 0 0 1 1 0 0 0 1 0 1 0 1 0 1 1 1 0 1 1 1 0 1 0\n",
      " 0 0 0 0 1 0 1 0 1 1 1 1 0 0 0 0 1 1 1 1 0 1 0 1 0 0 1 1 1 0 0 1 0 0 0 0 1\n",
      " 1 1 1 0 1 0 0 0 0 0 1 0 0 0 1 0 1 0 0 0 1 1 1 1 0 1 1 0 1 1 0 0 1 1 0 1 0\n",
      " 1 1 0 0 1 0 1 0 1 1 0 1 0 1 0 0 0 0 0 0 0 1 0 1 1 1 0 0 0 1 1 1 1 0 1 0 0\n",
      " 1 0 1 0 0 1 1 1 0 0 0 1 1 1 1 1 1 0 1 1 1 0 1 1 1 1 1 1 1 0 1 1 1 1 1 0 1\n",
      " 0 1 1 0 0 0 1 1 1 0 1 1 1 0 1 1 1 0 0 1 0 1 1 1 0 1 0 0 0 0 0 0 0 0 0 0 1\n",
      " 1 1 1 1 0 1 0 0 1 0 1 0 0 1 0 1 1 1 0 1 1 0 1 1 1 0 1 0 0 0 1 0 0 1 0 1 0\n",
      " 1 1 1 1 1 0 1 1 1 0 0 0 0 0 1 1 0 0 0 1 1 0 1 1 0 0 1 0 1 1 1 1 0 1 1 1 1\n",
      " 0 0 1 1 0 1 1 1 1 1 1 1 0 1 1 1 0 0 1 0 1 1 0 1 0 1 0 1 1 0 0 1 0 0 0 1 1\n",
      " 0 0 1 1 0 1 1 1 1 1 1 0 1 0 0 1 1 1 1 1 1 0 0 1 1 1 1 1 1 0 0 0 1 1 1 0 0\n",
      " 0 0 0 1 1 0 0 0 1 1 0 1 1 1 1 0 0 1 0 1 0 1 1 1 1 0 0 1 0 1 0 1 1 1 1 0 1\n",
      " 0 0 0 1 0 0 1 0 1 0 1 0 0 0 1 1 1 1 0 0 1 0 0 1 1 1 1 0 1 0 1 1 0 1 1 1 1\n",
      " 1 0 1 0 1 1 0 0 1 1 0 0 1 0 1 1 0 0 1 1 0 1 1 1 1 0 1 0 0 1 1 0 1 1 1 1 1\n",
      " 0 0 1 1 1]\n"
     ]
    }
   ],
   "source": [
    "print(ypred_m1)"
   ]
  },
  {
   "cell_type": "code",
   "execution_count": 142,
   "id": "09d976b0",
   "metadata": {},
   "outputs": [
    {
     "name": "stdout",
     "output_type": "stream",
     "text": [
      "confusion matrics of LogisticRegression(max_iter=3000) is [[261  54]\n",
      " [ 11 308]]\n",
      "              precision    recall  f1-score   support\n",
      "\n",
      "           0       0.96      0.83      0.89       315\n",
      "           1       0.85      0.97      0.90       319\n",
      "\n",
      "    accuracy                           0.90       634\n",
      "   macro avg       0.91      0.90      0.90       634\n",
      "weighted avg       0.90      0.90      0.90       634\n",
      "\n",
      "accuracy score of given model is: 0.8974763406940063\n"
     ]
    }
   ],
   "source": [
    "gen_metrics(y_test,ypred_m1,m1)"
   ]
  },
  {
   "cell_type": "markdown",
   "id": "2087ede1",
   "metadata": {},
   "source": [
    "# KNN classifiers(m2)"
   ]
  },
  {
   "cell_type": "code",
   "execution_count": 128,
   "id": "612c4526",
   "metadata": {},
   "outputs": [
    {
     "name": "stdout",
     "output_type": "stream",
     "text": [
      "training score 0.7879146919431279\n",
      "testing score 0.7176656151419558\n"
     ]
    }
   ],
   "source": [
    "m2=KNeighborsClassifier(n_neighbors=7)\n",
    "m2.fit(x_train,y_train)\n",
    "train_test_score(m2)"
   ]
  },
  {
   "cell_type": "code",
   "execution_count": 129,
   "id": "25f82988",
   "metadata": {},
   "outputs": [],
   "source": [
    "ypred_m2=m2.predict(x_test)"
   ]
  },
  {
   "cell_type": "code",
   "execution_count": 104,
   "id": "98e8445d",
   "metadata": {},
   "outputs": [
    {
     "name": "stdout",
     "output_type": "stream",
     "text": [
      "[1 0 1 0 1 0 1 1 1 1 0 0 0 1 0 0 1 1 1 0 0 0 0 1 1 1 1 0 1 0 1 1 0 1 0 1 1\n",
      " 1 1 1 0 1 1 0 1 1 0 0 1 1 1 1 0 1 0 1 1 0 1 1 0 1 1 0 1 1 1 0 0 1 0 1 1 1\n",
      " 0 0 1 1 1 0 0 1 0 1 1 1 0 0 0 1 0 1 1 1 0 1 1 0 1 0 1 0 1 1 1 0 1 0 1 0 1\n",
      " 0 0 0 0 1 1 0 1 1 0 1 0 1 0 0 0 1 1 1 1 0 1 0 0 1 0 1 1 1 1 0 1 1 1 0 1 0\n",
      " 1 1 1 1 1 1 0 0 0 0 0 0 0 1 0 0 1 1 0 0 0 0 1 1 0 0 0 0 1 0 0 1 1 0 0 1 0\n",
      " 0 0 0 0 1 1 1 0 1 1 0 1 0 0 0 1 1 1 1 1 0 1 0 0 0 0 1 0 0 0 1 1 0 0 0 0 1\n",
      " 0 1 1 1 1 0 0 0 0 0 1 0 0 0 0 0 0 0 1 0 0 1 1 1 0 1 1 0 1 1 0 1 0 1 0 1 1\n",
      " 1 0 0 0 1 0 1 0 1 1 0 1 0 0 0 0 0 0 0 0 1 1 0 0 1 1 0 0 1 1 1 0 1 1 1 0 0\n",
      " 0 0 0 0 0 1 1 1 0 1 0 1 1 1 1 1 0 0 1 1 1 0 0 0 0 1 1 1 1 0 1 1 1 1 1 0 1\n",
      " 1 1 1 0 1 0 1 1 0 0 0 1 1 0 1 1 0 0 0 1 0 0 1 0 1 1 0 0 0 0 0 1 1 0 1 0 1\n",
      " 1 1 1 1 1 0 0 0 1 0 1 0 1 0 0 1 0 1 1 0 1 0 1 0 1 0 1 0 0 0 1 0 0 1 1 1 0\n",
      " 1 1 1 1 1 0 1 1 0 0 0 0 0 0 1 0 0 0 0 1 1 0 1 1 1 0 1 1 1 1 1 1 1 1 1 1 1\n",
      " 0 0 1 1 0 1 1 0 1 1 0 1 0 0 1 1 1 0 0 1 1 0 0 1 1 0 0 0 1 1 0 1 0 1 0 1 0\n",
      " 0 1 1 0 1 0 0 1 1 1 1 1 1 0 0 1 0 1 1 1 0 1 1 0 1 0 1 1 1 0 0 1 1 0 1 0 0\n",
      " 0 0 0 1 1 1 0 0 1 1 0 0 1 1 1 1 0 0 0 1 1 0 0 0 1 0 0 1 0 0 1 1 0 1 1 0 1\n",
      " 0 0 0 1 0 0 1 1 1 0 0 1 1 1 1 0 1 0 0 0 1 0 1 0 1 1 1 1 1 0 1 1 0 1 1 0 1\n",
      " 1 0 1 0 1 1 0 1 1 0 0 0 0 1 0 0 0 1 1 1 0 1 1 1 1 0 0 0 1 1 1 0 1 1 1 1 1\n",
      " 0 1 1 1 1]\n"
     ]
    }
   ],
   "source": [
    "print(ypred_m2)"
   ]
  },
  {
   "cell_type": "code",
   "execution_count": 105,
   "id": "3b420c10",
   "metadata": {},
   "outputs": [
    {
     "name": "stdout",
     "output_type": "stream",
     "text": [
      "confusion matrics of KNeighborsClassifier(n_neighbors=7) is [[215 100]\n",
      " [ 79 240]]\n",
      "              precision    recall  f1-score   support\n",
      "\n",
      "           0       0.73      0.68      0.71       315\n",
      "           1       0.71      0.75      0.73       319\n",
      "\n",
      "    accuracy                           0.72       634\n",
      "   macro avg       0.72      0.72      0.72       634\n",
      "weighted avg       0.72      0.72      0.72       634\n",
      "\n",
      "accuracy score of given model is: 0.7176656151419558\n"
     ]
    }
   ],
   "source": [
    "gen_metrics(y_test,ypred_m2,m2)"
   ]
  },
  {
   "cell_type": "markdown",
   "id": "bb83d114",
   "metadata": {},
   "source": [
    "# Support Vector Machine(SVM)(m3)"
   ]
  },
  {
   "cell_type": "code",
   "execution_count": 106,
   "id": "64d1b215",
   "metadata": {},
   "outputs": [
    {
     "name": "stdout",
     "output_type": "stream",
     "text": [
      "training score 0.9190363349131122\n",
      "testing score 0.9227129337539433\n"
     ]
    }
   ],
   "source": [
    "m3=SVC(kernel='linear',C=1)\n",
    "m3.fit(x_train,y_train)\n",
    "train_test_score(m3)"
   ]
  },
  {
   "cell_type": "code",
   "execution_count": 107,
   "id": "05d9d3ad",
   "metadata": {},
   "outputs": [
    {
     "name": "stdout",
     "output_type": "stream",
     "text": [
      "[1 0 1 0 1 0 1 1 1 1 1 0 1 1 1 0 1 0 1 1 0 0 1 1 1 0 1 0 0 0 1 1 1 1 1 1 1\n",
      " 1 0 0 0 1 1 0 1 0 0 0 1 1 1 1 0 1 1 1 1 0 1 1 0 1 1 0 0 1 1 1 0 0 0 1 0 1\n",
      " 1 1 1 1 1 1 1 1 0 1 1 1 0 0 0 1 0 1 1 0 0 1 1 0 1 1 1 1 1 1 1 0 1 1 0 0 1\n",
      " 0 0 1 0 1 1 0 1 1 0 1 1 1 0 0 0 0 1 1 1 0 0 0 1 1 1 1 0 1 1 0 0 0 1 0 1 0\n",
      " 0 1 1 1 1 0 0 0 0 0 1 0 0 0 0 0 1 1 0 0 0 1 0 1 0 1 0 0 1 1 0 1 1 1 0 1 0\n",
      " 0 0 0 0 0 0 1 0 1 1 1 1 0 0 0 0 1 1 1 1 0 1 0 1 0 0 1 1 1 0 0 1 0 0 0 0 1\n",
      " 1 1 1 0 1 0 1 0 0 0 1 0 0 0 1 0 1 0 0 0 1 1 1 1 0 1 1 0 1 1 0 0 0 1 0 1 0\n",
      " 1 1 0 0 1 0 1 1 1 1 0 1 0 1 0 0 0 0 0 0 0 1 0 1 1 1 0 0 0 1 1 0 1 0 1 0 0\n",
      " 1 0 1 0 0 1 1 1 0 1 1 0 1 1 1 1 1 1 1 1 1 0 1 1 1 1 1 1 1 0 1 1 1 1 1 0 1\n",
      " 0 1 1 0 0 0 1 1 1 0 1 1 1 0 0 1 1 0 0 1 0 1 1 1 0 1 0 0 0 0 0 0 0 0 0 0 1\n",
      " 1 1 1 1 0 1 0 0 1 0 1 0 0 1 0 1 1 1 0 1 1 0 1 1 1 0 1 0 0 0 1 0 0 1 0 1 0\n",
      " 1 1 1 1 1 0 1 1 0 0 0 0 0 0 1 1 0 0 0 1 1 0 1 1 0 0 1 0 1 1 1 1 0 1 1 1 1\n",
      " 0 0 1 1 0 1 1 1 1 1 1 1 0 1 1 1 0 0 1 0 1 1 0 1 0 1 0 1 1 0 0 1 0 0 0 1 1\n",
      " 0 1 1 1 0 1 1 1 1 1 1 0 1 0 0 1 1 1 1 1 1 0 1 1 1 1 1 1 1 0 0 0 1 1 1 0 0\n",
      " 0 0 0 1 1 0 0 0 1 1 0 1 1 1 1 0 0 1 0 1 0 1 1 1 1 0 0 1 0 1 0 1 1 1 1 0 1\n",
      " 0 0 0 1 0 0 1 0 1 0 1 0 0 0 0 1 1 1 0 0 1 0 0 1 1 1 1 0 1 0 1 1 0 1 1 1 1\n",
      " 0 0 1 1 1 1 0 0 1 0 0 0 0 0 1 1 0 0 1 1 0 0 1 1 1 0 1 0 0 1 1 0 1 1 1 1 1\n",
      " 0 0 1 1 1]\n"
     ]
    }
   ],
   "source": [
    "ypred_m3=m3.predict(x_test)\n",
    "print(ypred_m3)"
   ]
  },
  {
   "cell_type": "code",
   "execution_count": 108,
   "id": "5f69d78d",
   "metadata": {},
   "outputs": [
    {
     "name": "stdout",
     "output_type": "stream",
     "text": [
      "confusion matrics of SVC(C=1, kernel='linear') is [[272  43]\n",
      " [  6 313]]\n",
      "              precision    recall  f1-score   support\n",
      "\n",
      "           0       0.98      0.86      0.92       315\n",
      "           1       0.88      0.98      0.93       319\n",
      "\n",
      "    accuracy                           0.92       634\n",
      "   macro avg       0.93      0.92      0.92       634\n",
      "weighted avg       0.93      0.92      0.92       634\n",
      "\n",
      "accuracy score of given model is: 0.9227129337539433\n"
     ]
    }
   ],
   "source": [
    "gen_metrics(y_test,ypred_m3,m3)"
   ]
  },
  {
   "cell_type": "markdown",
   "id": "036da742",
   "metadata": {},
   "source": [
    "# Decision Tree Classifier(m4)"
   ]
  },
  {
   "cell_type": "code",
   "execution_count": 117,
   "id": "e6e978a7",
   "metadata": {},
   "outputs": [
    {
     "name": "stdout",
     "output_type": "stream",
     "text": [
      "training score 0.9901263823064771\n",
      "testing score 0.9668769716088328\n"
     ]
    }
   ],
   "source": [
    "m4=DecisionTreeClassifier(criterion='entropy',max_depth=9,min_samples_split=15)\n",
    "m4.fit(x_train,y_train)\n",
    "train_test_score(m4)"
   ]
  },
  {
   "cell_type": "code",
   "execution_count": 118,
   "id": "535415f7",
   "metadata": {},
   "outputs": [
    {
     "name": "stdout",
     "output_type": "stream",
     "text": [
      "[1 0 1 0 1 0 1 1 1 1 1 0 1 1 1 0 1 0 1 1 0 0 1 1 1 0 1 0 0 0 1 0 1 0 1 1 1\n",
      " 1 0 0 0 1 1 0 1 0 0 0 1 1 1 0 0 1 1 1 1 0 0 1 0 1 1 0 0 1 1 1 0 0 0 1 0 1\n",
      " 1 1 1 1 1 1 1 1 0 1 1 1 0 1 0 1 0 1 1 0 0 1 1 0 1 1 1 1 1 1 1 0 1 1 0 0 0\n",
      " 0 0 1 0 1 1 0 1 1 0 1 1 1 0 0 0 0 1 0 1 0 0 0 0 1 1 1 0 1 1 0 0 0 1 0 1 0\n",
      " 0 1 0 1 1 0 0 0 0 0 1 0 0 0 0 0 1 1 0 0 0 0 0 1 0 1 0 0 1 1 0 1 1 0 0 1 0\n",
      " 0 0 0 0 0 0 1 0 1 1 1 1 0 0 0 0 1 1 1 1 0 0 0 1 0 0 1 1 0 0 0 0 0 0 0 0 1\n",
      " 1 0 1 0 1 0 1 0 0 0 1 0 0 0 1 0 1 0 0 0 1 1 1 1 0 1 1 1 1 1 0 0 1 1 0 1 0\n",
      " 1 0 0 0 1 0 1 1 1 1 0 1 0 1 0 0 0 0 0 0 0 1 0 0 1 0 0 0 0 1 1 0 1 0 1 0 0\n",
      " 1 0 1 0 0 1 1 1 0 0 1 0 1 1 1 1 1 1 0 1 1 0 1 1 1 1 1 1 1 0 0 1 1 1 1 0 1\n",
      " 0 1 0 0 0 0 1 1 1 0 1 1 1 0 0 1 1 0 0 1 0 1 1 1 0 1 0 0 0 0 0 0 0 0 0 0 1\n",
      " 1 1 1 1 0 1 0 0 0 0 1 0 0 1 0 1 0 1 0 1 0 0 1 1 1 0 1 0 0 0 1 0 0 1 0 1 0\n",
      " 1 1 1 1 1 0 0 1 0 0 0 0 0 0 1 1 0 0 0 1 1 0 1 1 0 0 1 1 1 1 1 1 0 1 1 1 0\n",
      " 0 0 1 0 0 1 1 1 1 1 0 1 0 1 1 1 0 0 0 0 1 1 0 1 0 1 0 1 1 0 0 1 0 0 0 1 1\n",
      " 0 0 1 0 0 1 1 0 1 1 1 0 1 0 1 1 1 1 1 0 1 0 0 0 1 1 1 1 1 0 1 0 0 1 1 0 0\n",
      " 0 0 0 1 1 0 0 0 1 1 0 1 1 1 1 0 0 1 0 1 0 1 1 1 1 0 0 1 0 0 0 0 1 1 1 0 1\n",
      " 0 0 1 0 0 0 1 0 0 1 0 0 0 0 0 1 1 1 0 0 1 0 0 0 1 0 1 0 1 0 1 1 0 1 1 1 1\n",
      " 0 0 0 1 1 1 0 0 1 0 0 0 0 0 1 1 0 0 1 1 0 0 1 1 0 0 1 0 0 1 1 0 1 1 1 1 0\n",
      " 0 0 1 1 1]\n"
     ]
    }
   ],
   "source": [
    "ypred_m4=m4.predict(x_test)\n",
    "print(ypred_m4)"
   ]
  },
  {
   "cell_type": "code",
   "execution_count": 119,
   "id": "8b469ca3",
   "metadata": {},
   "outputs": [
    {
     "name": "stdout",
     "output_type": "stream",
     "text": [
      "confusion matrics of DecisionTreeClassifier(criterion='entropy', max_depth=9, min_samples_split=15) is [[305  10]\n",
      " [ 11 308]]\n",
      "              precision    recall  f1-score   support\n",
      "\n",
      "           0       0.97      0.97      0.97       315\n",
      "           1       0.97      0.97      0.97       319\n",
      "\n",
      "    accuracy                           0.97       634\n",
      "   macro avg       0.97      0.97      0.97       634\n",
      "weighted avg       0.97      0.97      0.97       634\n",
      "\n",
      "accuracy score of given model is: 0.9668769716088328\n"
     ]
    }
   ],
   "source": [
    "gen_metrics(y_test,ypred_m4,m4)"
   ]
  },
  {
   "cell_type": "markdown",
   "id": "01096932",
   "metadata": {},
   "source": [
    "# Random Forest Classifiers(m5)"
   ]
  },
  {
   "cell_type": "code",
   "execution_count": 120,
   "id": "37cbc6ca",
   "metadata": {},
   "outputs": [
    {
     "name": "stdout",
     "output_type": "stream",
     "text": [
      "training score 0.9877567140600316\n",
      "testing score 0.9794952681388013\n"
     ]
    }
   ],
   "source": [
    "m5=RandomForestClassifier(criterion='gini',n_estimators=100,min_samples_split=20,max_depth=9)\n",
    "m5.fit(x_train,y_train)\n",
    "train_test_score(m5)"
   ]
  },
  {
   "cell_type": "code",
   "execution_count": 122,
   "id": "1667f100",
   "metadata": {},
   "outputs": [
    {
     "name": "stdout",
     "output_type": "stream",
     "text": [
      "[1 0 1 0 1 0 1 1 1 1 1 0 1 1 1 0 1 0 1 1 0 0 1 1 1 0 1 0 0 0 1 0 1 0 1 1 1\n",
      " 1 0 1 0 1 1 0 1 0 0 0 1 1 1 0 0 1 1 1 1 0 0 1 0 1 1 0 0 1 1 1 0 0 0 1 0 1\n",
      " 1 1 1 1 1 1 1 1 0 1 1 1 0 1 0 1 0 1 1 0 0 1 1 0 1 1 1 1 1 1 1 0 1 1 0 0 0\n",
      " 0 0 1 0 1 1 0 1 1 0 1 1 1 0 0 0 0 1 0 1 0 0 0 1 1 1 1 0 1 1 0 0 0 1 0 1 0\n",
      " 0 1 0 1 1 0 0 0 0 0 1 0 0 0 0 0 1 1 0 0 0 1 0 1 0 1 0 0 1 1 0 1 1 0 0 1 0\n",
      " 0 0 0 0 0 0 1 0 1 1 1 1 0 0 0 0 1 1 1 1 0 0 0 1 0 0 1 1 0 0 0 0 0 1 0 0 1\n",
      " 1 0 1 0 1 0 1 0 0 0 1 0 0 0 1 0 1 0 0 0 1 1 1 1 0 1 1 0 1 1 0 0 0 1 0 1 0\n",
      " 1 0 0 0 1 0 1 1 1 1 0 0 0 1 0 0 0 0 0 0 0 1 0 0 1 0 0 0 0 0 1 0 1 0 1 0 0\n",
      " 1 0 1 0 0 1 1 1 0 0 1 0 1 1 1 1 1 1 0 1 1 0 1 1 1 1 1 1 1 0 0 1 1 1 1 0 1\n",
      " 0 1 0 0 0 0 1 1 1 0 1 1 1 0 0 1 1 0 0 1 0 1 1 1 0 1 0 0 0 0 0 0 0 0 0 0 1\n",
      " 1 1 1 1 0 1 0 0 1 0 1 0 0 1 0 1 0 1 0 1 0 0 1 1 1 0 1 0 0 0 1 0 0 1 0 1 0\n",
      " 1 1 1 1 1 0 0 1 0 0 0 0 0 0 1 1 0 0 0 1 1 0 1 1 0 0 1 1 1 1 1 1 0 1 1 1 0\n",
      " 0 0 1 0 0 1 1 1 1 1 0 1 0 1 1 1 0 0 0 0 1 1 0 1 0 1 0 1 1 0 0 1 0 0 0 1 1\n",
      " 0 1 1 0 0 1 1 0 1 1 1 0 1 0 0 1 1 1 1 0 1 0 0 0 1 1 1 1 1 0 1 0 0 1 1 0 0\n",
      " 0 0 0 1 1 0 0 0 1 1 0 1 1 1 1 0 0 1 0 1 0 1 1 1 1 0 0 1 0 0 0 1 1 1 1 0 1\n",
      " 0 0 1 0 0 0 1 0 0 0 0 0 0 0 0 1 1 1 0 0 1 0 0 1 1 0 1 0 1 0 1 1 0 1 1 1 1\n",
      " 0 0 0 1 1 1 0 0 1 0 0 0 0 0 1 1 0 0 1 1 0 0 1 1 0 0 1 0 0 1 1 0 1 1 1 1 0\n",
      " 0 0 1 1 1]\n"
     ]
    }
   ],
   "source": [
    "ypred_m5=m5.predict(x_test)\n",
    "print(ypred_m5)"
   ]
  },
  {
   "cell_type": "code",
   "execution_count": 123,
   "id": "4b55d961",
   "metadata": {},
   "outputs": [
    {
     "name": "stdout",
     "output_type": "stream",
     "text": [
      "confusion matrics of RandomForestClassifier(max_depth=9, min_samples_split=20) is [[308   7]\n",
      " [  6 313]]\n",
      "              precision    recall  f1-score   support\n",
      "\n",
      "           0       0.98      0.98      0.98       315\n",
      "           1       0.98      0.98      0.98       319\n",
      "\n",
      "    accuracy                           0.98       634\n",
      "   macro avg       0.98      0.98      0.98       634\n",
      "weighted avg       0.98      0.98      0.98       634\n",
      "\n",
      "accuracy score of given model is: 0.9794952681388013\n"
     ]
    }
   ],
   "source": [
    "gen_metrics(y_test,ypred_m5,m5)"
   ]
  },
  {
   "cell_type": "markdown",
   "id": "20024e4b",
   "metadata": {},
   "source": [
    "# Modal comparison"
   ]
  },
  {
   "cell_type": "markdown",
   "id": "4ef2ee0d",
   "metadata": {},
   "source": [
    "Following are the accuracy score of the modals:<br>\n",
    "    1)Logistic regression(m1)= <b>0.8974763406940063</b><br>\n",
    "    2)KNN Classifiers(m2)=<b>0.7176656151419558</b><br>\n",
    "    3)Support Vector Machine(m3)=<b>0.9668769716088328</b><br>\n",
    "    4)Decision Tree Classifie(m4)r=<b>0.9668769716088328</b><br>\n",
    "    5)Random Forest Classifiers(m5)=<b>0.9794952681388013</b><br>\n",
    "Therefore,By comparing the accuruacy score of the different modal we can say that for the given data <b>Best possible modal</b> is <b>Random Forest Classifiers</b> and <b>worst possible modal</b> is <b>KNN classifiers</b>."
   ]
  },
  {
   "cell_type": "code",
   "execution_count": null,
   "id": "18b8a44f",
   "metadata": {},
   "outputs": [],
   "source": []
  }
 ],
 "metadata": {
  "kernelspec": {
   "display_name": "Python 3",
   "language": "python",
   "name": "python3"
  },
  "language_info": {
   "codemirror_mode": {
    "name": "ipython",
    "version": 3
   },
   "file_extension": ".py",
   "mimetype": "text/x-python",
   "name": "python",
   "nbconvert_exporter": "python",
   "pygments_lexer": "ipython3",
   "version": "3.8.8"
  }
 },
 "nbformat": 4,
 "nbformat_minor": 5
}
